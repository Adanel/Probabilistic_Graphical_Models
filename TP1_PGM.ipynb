{
  "nbformat": 4,
  "nbformat_minor": 0,
  "metadata": {
    "colab": {
      "name": "PGM_PS1.ipynb",
      "provenance": [],
      "collapsed_sections": [],
      "toc_visible": true
    },
    "kernelspec": {
      "name": "python3",
      "display_name": "Python 3"
    }
  },
  "cells": [
    {
      "cell_type": "code",
      "metadata": {
        "id": "Fyt_wmcY5Fpz",
        "colab_type": "code",
        "colab": {}
      },
      "source": [
        "import numpy as np\n",
        "from numpy import random as npr\n",
        "import matplotlib.pyplot as plt"
      ],
      "execution_count": 0,
      "outputs": []
    },
    {
      "cell_type": "markdown",
      "metadata": {
        "id": "3hftSQ9CtSzc",
        "colab_type": "text"
      },
      "source": [
        "# Probabilistic Graphical Models 1\n",
        "\n",
        "Adrien DANEL\n",
        "\n",
        "Guillaume DESFORGES"
      ]
    },
    {
      "cell_type": "markdown",
      "metadata": {
        "id": "YAGBUz9NtMlM",
        "colab_type": "text"
      },
      "source": [
        "## Preliminaries : log-sum-exp trick\n",
        "\n",
        "> **Question 0**:\n",
        ">\n",
        "> In many practical applications, we often need to compute $s = \\log \\sum_{i=1}^I \\exp(v_i)$, where each $v_i < 0$ and $|v_i|$ is very large.\n",
        ">\n",
        "> Derive (mathematically) and implement a numerically stable algorithm for computing `log(sum(exp(v)))`, where $v = {v_i}_{i=1}^I$ is a vector of numbers.\n",
        ">\n",
        "> Explain why it should work.\n",
        ">\n",
        "> Test your algorithm on `log(sum(exp{-1234, -1235}))`.\n",
        "\n",
        "The numerical computation of $f(v) = \\log\\left(\\sum_{i=0}^{I}\\exp(v_i)\\right)$ with $v \\in {\\mathbb{R}_{-}}^I$ can be challenging as $v_i << 0$, because $\\exp u \\underset{u \\to - \\infty}{\\to} 0$."
      ]
    },
    {
      "cell_type": "code",
      "metadata": {
        "id": "lJX0xLQtDbf4",
        "colab_type": "code",
        "colab": {}
      },
      "source": [
        "v = np.array([-1234, -1235])"
      ],
      "execution_count": 0,
      "outputs": []
    },
    {
      "cell_type": "code",
      "metadata": {
        "id": "wrMoV_tk34B5",
        "colab_type": "code",
        "outputId": "4b557e11-70b2-42dd-efb8-0a422f45002d",
        "colab": {
          "base_uri": "https://localhost:8080/",
          "height": 68
        }
      },
      "source": [
        "# this fails\n",
        "print(np.log(np.exp(v).sum()))"
      ],
      "execution_count": 0,
      "outputs": [
        {
          "output_type": "stream",
          "text": [
            "-inf\n"
          ],
          "name": "stdout"
        },
        {
          "output_type": "stream",
          "text": [
            "/usr/local/lib/python3.6/dist-packages/ipykernel_launcher.py:1: RuntimeWarning: divide by zero encountered in log\n",
            "  \"\"\"Entry point for launching an IPython kernel.\n"
          ],
          "name": "stderr"
        }
      ]
    },
    {
      "cell_type": "markdown",
      "metadata": {
        "id": "b0gllPMIy27r",
        "colab_type": "text"
      },
      "source": [
        "We propose an approximate formula to help compute $f(v)$ efficiently.\n",
        "\n",
        "The $i$-th coordinate of the gradient of $f$ is :\n",
        "\n",
        "$$\\nabla f(v)_i = \\frac{\\exp(v_i)}{\\sum_{j=1}^n\\exp(v_j)}$$\n",
        "\n",
        "Let $v^* = \\underset{i \\in [I]}{\\max} v_i$ and $\\mathbb{1}_I = (1)_{i \\in [I]}$\n",
        "\n",
        "Using Taylor's development we have\n",
        "\n",
        "\\begin{equation}\n",
        "\\begin{split}\n",
        "f(v) & \\simeq f(v - v^*\\mathbb{1}_I) + <\\nabla f(v - v^*\\mathbb{1}_I), v - (v - v^*\\mathbb{1}_I)>\\\\\n",
        "     & \\simeq f(v - v^*\\mathbb{1}_I) + <\\nabla f(v - v^*\\mathbb{1}_I), v^*\\mathbb{1}_I)>\\\\\n",
        "     & \\simeq v^* + f(v - v^*\\mathbb{1}_I)\\\\\n",
        "\\end{split}\n",
        "\\end{equation}\n",
        "\n",
        "Since on the highest coordinate $k^*$ of $v$ we have $\\exp(v_{k^*} - v^*) = 1$, there is at least one term in the sum that is not 0. In addition, the translation from $v_i$ to $v_i - v^*$ can make some expressions be closer to 0 than just $v_i$, which means that it allows more terms of the sum to not go to 0 and makes a more accurate approximation than just $v_{k^*}$. This means that the method is numerically stable."
      ]
    },
    {
      "cell_type": "code",
      "metadata": {
        "id": "pvpuGHF3EIca",
        "colab_type": "code",
        "colab": {}
      },
      "source": [
        "def log_sum_exp(v):\n",
        "    v_max = max(v)\n",
        "    return v_max + np.log(sum(np.exp(v - v_max)))"
      ],
      "execution_count": 0,
      "outputs": []
    },
    {
      "cell_type": "code",
      "metadata": {
        "id": "dQRGoAOG30sh",
        "colab_type": "code",
        "outputId": "28af49f1-b78b-431a-caf0-106992b3bc96",
        "colab": {
          "base_uri": "https://localhost:8080/",
          "height": 34
        }
      },
      "source": [
        "# this works !\n",
        "print(log_sum_exp(v))"
      ],
      "execution_count": 0,
      "outputs": [
        {
          "output_type": "stream",
          "text": [
            "-1233.6867383124818\n"
          ],
          "name": "stdout"
        }
      ]
    },
    {
      "cell_type": "markdown",
      "metadata": {
        "id": "-YDYf8emuNX7",
        "colab_type": "text"
      },
      "source": [
        "## Graphical Model : simulation and inference\n",
        "\n",
        "> A robot is moving across a circular corridor. We assume that the possible positions of the robot is a discrete set with\n",
        "> N locations. The initial position of the robot is unknown and assumed to be uniformly distributed. At each step k,\n",
        "the robot stays where it is with probability \u000f, or moves to the next point in counter-clock direction with probability\n",
        "> $1 − \\epsilon$. At each step k, the robot can observe its true position with probability w. With probability 1 − w, the position\n",
        "sensor fails and gives a measurement that is independent from the true position (uniformly distributed)."
      ]
    },
    {
      "cell_type": "markdown",
      "metadata": {
        "id": "sqO5nyRN5eyE",
        "colab_type": "text"
      },
      "source": [
        "> **Question 1**:\n",
        ">\n",
        "> Choose the appropriate random variables, define their domains, write down the generative model and draw the associated directed graphical model.\n",
        "\n",
        "We need three random variables for this problem\n",
        "\n",
        "\n",
        "* $X_k$: true position of the robot at step $k$, defined on $\\left[1; N\\right]$\n",
        "* $Y_k$: observed position of the robot at step $k$, defined on $\\left[1; N\\right]$\n",
        "* $Z_k$: success of the sensor, defined on $\\{0; 1\\}$\n",
        "\n",
        "The generative model is as follows :\n",
        "\n",
        "$P(X_{1:n}, Y_{1:n}, Z_{1:n}) = P(X_1)\\prod_{k=1}^{K}(P(X_k\\mid X_{k-1})P(Z_k)P(Y_k \\mid X_k, Z_k) $\n",
        "\n",
        "The corresponding graph for such a model is the following (using Bishop's representation):\n",
        "<center><img src=\"https://i.imgur.com/yTgVXyj.png\" title=\"source: imgur.com\" /></center/>"
      ]
    },
    {
      "cell_type": "markdown",
      "metadata": {
        "id": "x9YYgkL4vsOg",
        "colab_type": "text"
      },
      "source": [
        "> **Question 2**:\n",
        ">\n",
        "> Define the conditional probability tables (i.e., the transition model and the observation model) given the verbal description above."
      ]
    },
    {
      "cell_type": "markdown",
      "metadata": {
        "id": "Ah_mLQU-mWHj",
        "colab_type": "text"
      },
      "source": [
        "From our model, we get the following transition model:\n",
        "\n",
        "* $\\mathbb{P}(X_{k+1}= X_k \\mid X_k) = \\epsilon$\n",
        "* $\\mathbb{P}(X_{k+1}= \\text{mod}(X_{k} + 1, N) \\mid X_k) = 1-\\epsilon$\n",
        "\n",
        "We also get the following observation model:\n",
        "* $\\mathbb{P}(Y_k = X_k \\mid X_k, Z_k = 1) = 1$\n",
        "* $(Y_k \\mid Z_k = 0) \\sim \\mathcal{U}(N)$"
      ]
    },
    {
      "cell_type": "markdown",
      "metadata": {
        "id": "2oGnqTTavztB",
        "colab_type": "text"
      },
      "source": [
        "> **Question 3**:\n",
        ">Specify the following verbal statements in terms of posterior quantities using mathematical notation.\n",
        ">\n",
        "> For example \"*the distribution of the robot's location two time steps later given its current position at time k*\" should be answered as $\\mathbb{P}(x_{k+2} \\mid x_k)$.\n",
        "\n",
        "a. Distribution of the robot’s current position given the observations so far: $\\mathbb{P}(x_k \\mid y_1, ..., y_{k})$\n",
        "\n",
        "b. Distribution of the robot’s current position given all the observations: $\\mathbb{P}(x_k \\mid y_1, ..., y_{n})$\n",
        "\n",
        "c. Distribution of the robot’s next position given the observations so far: $\\mathbb{P}(x_{k+1} \\mid y_1, ..., y_{k})$\n",
        "\n",
        "d. Distribution of the robot’s next sensor reading given the observations so far: $\\mathbb{P}_{k+1} \\mid y_1, ..., y_{k})$\n",
        "\n",
        "e. Distribution of the robot’s initial position given observations so far: $\\mathbb{P}(x_1 \\mid y_1, ..., y_{k})$\n",
        "\n",
        "f. Most likely current position of the robot given the observations so far: $\\underset{X_k \\in \\mathbb{X}}{\\text{argmax}}\\ \\mathbb{P}(X_k\\mid y_1, ..., y_{k})$\n",
        "\n",
        "g. Most likely trajectory taken by the robot from the start until now given the observations so far: $\\underset{(X_1, ..., X_k)\\in \\mathbb{X}^k}{\\text{argmax}}\\ \\mathbb{P}(X_{1},...,X_k \\mid y_1, ..., y_{k})$\n",
        "\n",
        "\n",
        "\n"
      ]
    },
    {
      "cell_type": "markdown",
      "metadata": {
        "id": "iV-bKOH4fiUX",
        "colab_type": "text"
      },
      "source": [
        "> **Question 4**:\n",
        ">\n",
        "> Implement a program that simulates this scenario; i.e., generates realizations from the movements of the robot and the associated sensor readings.\n",
        ">\n",
        "> Simulate a scenario for $n = 100$ with $N = 50$, $\\epsilon= 0.3$, $\\omega = 0.8$."
      ]
    },
    {
      "cell_type": "code",
      "metadata": {
        "id": "IPBMuzfpAz__",
        "colab_type": "code",
        "colab": {}
      },
      "source": [
        "def generate_experiment(n, N, epsilon, w):\n",
        "  x = [npr.randint(N)]\n",
        "  y = [x[-1] if npr.rand() < w else npr.randint(N)]\n",
        "  for k in range(n):\n",
        "    x.append(x[-1] if npr.rand() < epsilon else (x[-1] + 1) % N)\n",
        "    y.append(x[-1] if npr.rand() < w else npr.randint(N))\n",
        "  \n",
        "  return x, y"
      ],
      "execution_count": 0,
      "outputs": []
    },
    {
      "cell_type": "code",
      "metadata": {
        "id": "8vMAF6NuCmTw",
        "colab_type": "code",
        "colab": {}
      },
      "source": [
        "N = 50\n",
        "epsilon = 0.3\n",
        "w = 0.8\n",
        "n = 100\n",
        "\n",
        "x, y = generate_experiment(n, N, epsilon, w)"
      ],
      "execution_count": 0,
      "outputs": []
    },
    {
      "cell_type": "code",
      "metadata": {
        "id": "5Wu2eivzCnW3",
        "colab_type": "code",
        "outputId": "93dce081-e175-4d4e-be9e-b5eac40445bb",
        "colab": {
          "base_uri": "https://localhost:8080/",
          "height": 323
        }
      },
      "source": [
        "plt.subplots(figsize=(15, 5))\n",
        "plt.plot(x, label=\"X\")\n",
        "plt.plot(y, '*', label=\"Y\")\n",
        "plt.legend()\n",
        "plt.show()"
      ],
      "execution_count": 0,
      "outputs": [
        {
          "output_type": "display_data",
          "data": {
            "image/png": "[encoded data removed]",
            "text/plain": [
              "<Figure size 1080x360 with 1 Axes>"
            ]
          },
          "metadata": {
            "tags": []
          }
        }
      ]
    },
    {
      "cell_type": "markdown",
      "metadata": {
        "id": "dkyD-YxAtENY",
        "colab_type": "text"
      },
      "source": [
        "> **Question 5**:\n",
        ">\n",
        "> Implement the Forward-Backward algorithm for computing the quantities defined in 3-a,b,f. (Attention: be careful with numerical stability! Modify the log-sum-exp trick for this algorithm)"
      ]
    },
    {
      "cell_type": "code",
      "metadata": {
        "id": "s_ECy-61PFRN",
        "colab_type": "code",
        "colab": {}
      },
      "source": [
        "# Transition matrix\n",
        "transition_matrix = np.array([[epsilon if j == i else 1 - epsilon if j == (i - 1) % N else 0 for j in range(N)] for i in range(N)])\n",
        "\n",
        "# Emission matrix\n",
        "emission_matrix = np.array([[w if j == i else (1 - w)/(N - 1) for j in range(N)] for i in range(N)])\n",
        "\n",
        "# Initial distribution\n",
        "initial_distribution = np.ones(N) / N"
      ],
      "execution_count": 0,
      "outputs": []
    },
    {
      "cell_type": "code",
      "metadata": {
        "id": "kELiS5FCPF5Y",
        "colab_type": "code",
        "colab": {}
      },
      "source": [
        "def alphas_without_logsumexp_trick(y, transition_matrix, emission_matrix, initial_distribution):\n",
        "    k = len(y)\n",
        "    N = transition_matrix.shape[0]\n",
        "    alphas = initial_distribution * emission_matrix[y[0]]\n",
        "    for y_now in y[1:]:\n",
        "        alphas = np.array([emission_matrix[y_now, x] * sum(transition_matrix[x, x_prev] * alphas[x_prev] for x_prev in range(N)) for x in range(N)])\n",
        "    return alphas"
      ],
      "execution_count": 0,
      "outputs": []
    },
    {
      "cell_type": "code",
      "metadata": {
        "id": "-CXdlBxE_DN4",
        "colab_type": "code",
        "colab": {}
      },
      "source": [
        "def alphas_with_logsumexp_trick(y, transition_matrix, emission_matrix, initial_distribution):\n",
        "    k = len(y)\n",
        "    N = transition_matrix.shape[0]\n",
        "    log_alphas = np.log(initial_distribution) + np.log(emission_matrix[y[0]])\n",
        "    for y_now in y[1:]:\n",
        "        log_alphas = np.array([log_sum_exp(np.array([np.log(emission_matrix[y_now, x]) + np.log(transition_matrix[x, x_prev]) + log_alphas[x_prev] for x_prev in range(N)])) for x in range(N)])\n",
        "    return np.exp(log_alphas)"
      ],
      "execution_count": 0,
      "outputs": []
    },
    {
      "cell_type": "code",
      "metadata": {
        "id": "FWBsRGtfPJfj",
        "colab_type": "code",
        "colab": {}
      },
      "source": [
        "def compute_current_position_distribution_given_previous(y, transition_matrix, emission_matrix, initial_distribution, logsumexp_trick=False):\n",
        "    alphas = alphas_with_logsumexp_trick if logsumexp_trick else alphas_without_logsumexp_trick\n",
        "    p = alphas(y, transition_matrix, emission_matrix, initial_distribution)\n",
        "    return p / sum(p)"
      ],
      "execution_count": 0,
      "outputs": []
    },
    {
      "cell_type": "code",
      "metadata": {
        "id": "c1zY83rDP7cW",
        "colab_type": "code",
        "outputId": "fb8bba5f-8d94-4a9b-c43c-322c76ecae56",
        "colab": {
          "base_uri": "https://localhost:8080/",
          "height": 269
        }
      },
      "source": [
        "plt.hist(range(N), weights=compute_current_position_distribution_given_previous(y, transition_matrix, emission_matrix, initial_distribution), bins=np.arange(N+1)-0.5)\n",
        "plt.show()"
      ],
      "execution_count": 0,
      "outputs": [
        {
          "output_type": "display_data",
          "data": {
            "image/png": "[encoded data removed]",
            "text/plain": [
              "<Figure size 432x288 with 1 Axes>"
            ]
          },
          "metadata": {
            "tags": []
          }
        }
      ]
    },
    {
      "cell_type": "code",
      "metadata": {
        "id": "YuAWdlS2_XRh",
        "colab_type": "code",
        "outputId": "95ded58f-373f-4b73-cd4f-aaecd883e82c",
        "colab": {
          "base_uri": "https://localhost:8080/",
          "height": 303
        }
      },
      "source": [
        "# with the log-sum-exp trick\n",
        "plt.hist(range(N), weights=compute_current_position_distribution_given_previous(y, transition_matrix, emission_matrix, initial_distribution, logsumexp_trick=True), bins=np.arange(N+1)-0.5)\n",
        "plt.show()"
      ],
      "execution_count": 0,
      "outputs": [
        {
          "output_type": "stream",
          "text": [
            "/usr/local/lib/python3.6/dist-packages/ipykernel_launcher.py:6: RuntimeWarning: divide by zero encountered in log\n",
            "  \n"
          ],
          "name": "stderr"
        },
        {
          "output_type": "display_data",
          "data": {
            "image/png": "[encoded data removed]",
            "text/plain": [
              "<Figure size 432x288 with 1 Axes>"
            ]
          },
          "metadata": {
            "tags": []
          }
        }
      ]
    },
    {
      "cell_type": "code",
      "metadata": {
        "id": "hhWrNKqHPPTo",
        "colab_type": "code",
        "colab": {}
      },
      "source": [
        "def compute_most_likely_position_given_previous(y, transition_matrix, emission_matrix, initial_distribution):\n",
        "    return np.argmax(compute_current_position_distribution_given_previous(y, transition_matrix, emission_matrix, initial_distribution))"
      ],
      "execution_count": 0,
      "outputs": []
    },
    {
      "cell_type": "code",
      "metadata": {
        "id": "ch7bUmi9PQ0r",
        "colab_type": "code",
        "outputId": "9590794d-1e30-49b6-f212-21f3d684ba1a",
        "colab": {
          "base_uri": "https://localhost:8080/",
          "height": 34
        }
      },
      "source": [
        "print(f\"Most likely position given previous observations is {compute_most_likely_position_given_previous(y, transition_matrix, emission_matrix, initial_distribution)} when the real position is {x[-1]}\")"
      ],
      "execution_count": 0,
      "outputs": [
        {
          "output_type": "stream",
          "text": [
            "Most likely position given previous observations is 36 when the real position is 36\n"
          ],
          "name": "stdout"
        }
      ]
    },
    {
      "cell_type": "code",
      "metadata": {
        "id": "zghkaqo4fk84",
        "colab_type": "code",
        "colab": {}
      },
      "source": [
        "def betas_without_logsumexp_trick(y, transition_matrix, emission_matrix, initial_distribution):\n",
        "    n = len(y)\n",
        "    N = transition_matrix.shape[0]\n",
        "    betas = initial_distribution * emission_matrix[y[-1]]\n",
        "    for y_now in reversed(y[:-1]):\n",
        "        betas = np.array([emission_matrix[y_now, x] * sum(transition_matrix[x_next, x] * betas[x_next] for x_next in range(N)) for x in range(N)])\n",
        "    return betas"
      ],
      "execution_count": 0,
      "outputs": []
    },
    {
      "cell_type": "code",
      "metadata": {
        "id": "CwKaJSdIrvxK",
        "colab_type": "code",
        "colab": {}
      },
      "source": [
        "def compute_trajectory_distribution(y, transition_matrix, emission_matrix, initial_distribution):\n",
        "    n = len(y)\n",
        "    N = transition_matrix.shape[0]\n",
        "    x = []\n",
        "    for k in range(n):\n",
        "        alphas = alphas_without_logsumexp_trick(y[:k+1], transition_matrix, emission_matrix, initial_distribution)\n",
        "        betas = betas_without_logsumexp_trick(y[k:], transition_matrix, emission_matrix, initial_distribution)\n",
        "        p = alphas * betas\n",
        "        x.append(np.argmax(p))\n",
        "    return x"
      ],
      "execution_count": 0,
      "outputs": []
    },
    {
      "cell_type": "code",
      "metadata": {
        "id": "xKwY2bHMOO9H",
        "colab_type": "code",
        "outputId": "11b3b3fb-4916-448c-f127-eaef5651825a",
        "colab": {
          "base_uri": "https://localhost:8080/",
          "height": 269
        }
      },
      "source": [
        "plt.plot(compute_trajectory_distribution(y, transition_matrix, emission_matrix, initial_distribution), 'b-', label='Most likely')\n",
        "plt.plot(x, 'r-', label='Truth')\n",
        "plt.legend()\n",
        "plt.show()"
      ],
      "execution_count": 0,
      "outputs": [
        {
          "output_type": "display_data",
          "data": {
            "image/png": "[encoded data removed]",
            "text/plain": [
              "<Figure size 432x288 with 1 Axes>"
            ]
          },
          "metadata": {
            "tags": []
          }
        }
      ]
    },
    {
      "cell_type": "markdown",
      "metadata": {
        "id": "zSAGOR1S80dm",
        "colab_type": "text"
      },
      "source": [
        "> **Question 6**:\n",
        ">\n",
        "> Assume now that at each step the robot can be kidnapped with probability $\\kappa$. If the robot is kidnapped its new position is independent from its previous position and is uniformly distributed.\n",
        ">\n",
        "> Repeat 4 and 5 for this new model with κ = 0.1. Can you reuse your code?"
      ]
    },
    {
      "cell_type": "code",
      "metadata": {
        "id": "QV1w8NwSNjh6",
        "colab_type": "code",
        "colab": {}
      },
      "source": [
        "# Transition matrix\n",
        "kappa = 0.05\n",
        "transition_matrix_kidnap = np.array([[(1- kappa) * epsilon if j == i else (1 - kappa) * (1 - epsilon) if j == (i - 1) % N else kappa / N for j in range(N)] for i in range(N)])"
      ],
      "execution_count": 0,
      "outputs": []
    },
    {
      "cell_type": "code",
      "metadata": {
        "id": "jRGN1jUtPOnj",
        "colab_type": "code",
        "colab": {}
      },
      "source": [
        "def generate_experiment_with_kappa(n, N, epsilon, w):\n",
        "  x = [npr.randint(N)]\n",
        "  y = [x[-1] if npr.rand() < w else npr.randint(N)]\n",
        "  for k in range(n):\n",
        "    if npr.rand() < kappa:\n",
        "        x.append(npr.randint(N))\n",
        "    else:\n",
        "        x.append(x[-1] if npr.rand() < epsilon else (x[-1] + 1) % N)\n",
        "    y.append(x[-1] if npr.rand() < w else npr.randint(N))\n",
        "  \n",
        "  return x, y"
      ],
      "execution_count": 0,
      "outputs": []
    },
    {
      "cell_type": "code",
      "metadata": {
        "id": "tVMfb_HDPpPI",
        "colab_type": "code",
        "colab": {}
      },
      "source": [
        "x_with_kappa, y_with_kappa = generate_experiment_with_kappa(n, N, epsilon, w)"
      ],
      "execution_count": 0,
      "outputs": []
    },
    {
      "cell_type": "code",
      "metadata": {
        "id": "dNVG-2X5PleV",
        "colab_type": "code",
        "outputId": "0f48a157-f4a6-4e80-d88c-10fc1a5496a4",
        "colab": {
          "base_uri": "https://localhost:8080/",
          "height": 323
        }
      },
      "source": [
        "plt.subplots(figsize=(15, 5))\n",
        "plt.plot(x_with_kappa, label=\"X\")\n",
        "plt.plot(y_with_kappa, '*', label=\"Y\")\n",
        "plt.legend()\n",
        "plt.show()"
      ],
      "execution_count": 0,
      "outputs": [
        {
          "output_type": "display_data",
          "data": {
            "image/png": "[encoded data removed]",
            "text/plain": [
              "<Figure size 1080x360 with 1 Axes>"
            ]
          },
          "metadata": {
            "tags": []
          }
        }
      ]
    },
    {
      "cell_type": "code",
      "metadata": {
        "id": "ZCIZ6AdbPCrh",
        "colab_type": "code",
        "outputId": "420ff208-5c67-478f-d23b-c7d593c4da7a",
        "colab": {
          "base_uri": "https://localhost:8080/",
          "height": 269
        }
      },
      "source": [
        "plt.hist(range(N), weights=compute_current_position_distribution_given_previous(y, transition_matrix_kidnap, emission_matrix, initial_distribution), bins=np.arange(N+1)-0.5)\n",
        "plt.show()"
      ],
      "execution_count": 0,
      "outputs": [
        {
          "output_type": "display_data",
          "data": {
            "image/png": "[encoded data removed]",
            "text/plain": [
              "<Figure size 432x288 with 1 Axes>"
            ]
          },
          "metadata": {
            "tags": []
          }
        }
      ]
    },
    {
      "cell_type": "code",
      "metadata": {
        "id": "9Gd9xyBlPFBC",
        "colab_type": "code",
        "outputId": "7e7a2688-6540-40db-a3d7-fc3c84ba0ed2",
        "colab": {
          "base_uri": "https://localhost:8080/",
          "height": 34
        }
      },
      "source": [
        "print(f\"Most likely position given previous observations is {compute_most_likely_position_given_previous(y, transition_matrix_kidnap, emission_matrix, initial_distribution)} when the real position is {x[-1]}\")"
      ],
      "execution_count": 0,
      "outputs": [
        {
          "output_type": "stream",
          "text": [
            "Most likely position given previous observations is 36 when the real position is 36\n"
          ],
          "name": "stdout"
        }
      ]
    },
    {
      "cell_type": "code",
      "metadata": {
        "id": "lo2Qc7oQQIWc",
        "colab_type": "code",
        "outputId": "4b148924-5544-4876-c34d-7f8c04acf136",
        "colab": {
          "base_uri": "https://localhost:8080/",
          "height": 269
        }
      },
      "source": [
        "plt.plot(compute_trajectory_distribution(y, transition_matrix_kidnap, emission_matrix, initial_distribution), 'b-', label='Most likely')\n",
        "plt.plot(x, 'r-', label='Truth')\n",
        "plt.legend()\n",
        "plt.show()"
      ],
      "execution_count": 0,
      "outputs": [
        {
          "output_type": "display_data",
          "data": {
            "image/png": "[encoded data removed]",
            "text/plain": [
              "<Figure size 432x288 with 1 Axes>"
            ]
          },
          "metadata": {
            "tags": []
          }
        }
      ]
    }
  ]
}